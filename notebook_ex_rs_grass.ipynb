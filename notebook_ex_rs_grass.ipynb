{
  "cells": [
    {
      "cell_type": "raw",
      "metadata": {},
      "source": [
        "---\n",
        "title: 'Part 1: Processing data in GRASS'\n",
        "author: Verónica Andreo\n",
        "date: today\n",
        "format:\n",
        "  html:\n",
        "    code-tools: true\n",
        "    code-copy: true\n",
        "    code-fold: false\n",
        "execute:\n",
        "  eval: false\n",
        "---"
      ]
    },
    {
      "cell_type": "markdown",
      "metadata": {},
      "source": [
        "In this notebook we'll go through the processing of MODIS LST daily time series\n",
        "data to derive relevant predictor variables for modeling the distribution of\n",
        "*Aedes albopictus* in Northern Italy. Furthermore, we'll show how to obtain and\n",
        "process occurrence data and background points.\n",
        "\n",
        "Let's first go through some temporal concepts within GRASS GIS...\n",
        "\n",
        "\n",
        "## The TGRASS framework\n",
        "\n",
        "GRASS GIS was the first FOSS GIS that incorporated capabilities to \n",
        "*manage, analyze, process and visualize spatio-temporal data*, as well as \n",
        "the temporal relationships among time series.\n",
        "\n",
        "- TGRASS is fully **based on metadata** and does not duplicate any dataset\n",
        "- **Snapshot** approach, i.e., adds time stamps to maps\n",
        "- A collection of time stamped maps (snapshots) of the same variable are called **space-time datasets** or STDS\n",
        "- Maps in a STDS can have different spatial and temporal extents\n",
        "- Space-time datasets can be composed of raster, raster 3D or vector maps, and so\n",
        "we call them:\n",
        "  - Space time raster datasets (**STRDS**)\n",
        "  - Space time 3D raster datasets (**STR3DS**)\n",
        "  - Space time vector datasets (**STVDS**)\n",
        "\n",
        "\n",
        "## Temporal tools\n",
        "\n",
        "GRASS temporal tools are named and organized following GRASS core naming\n",
        "scheme. In this way, we have:\n",
        "\n",
        "- **t.\\***: general tools to handle STDS of all types\n",
        "- **t.rast.\\***: tools that deal with STRDS\n",
        "- **t.rast3d.\\***: tools that deal with STR3DS\n",
        "- **t.vect.\\***: tools that deal with STVDS\n",
        "\n",
        "\n",
        "### Other TGRASS notions\n",
        "\n",
        "- Time can be defined as **intervals** (start and end time) or **instances** \n",
        "(only start time)\n",
        "- Time can be **absolute** (e.g., 2017-04-06 22:39:49) or **relative** \n",
        "(e.g., 4 years, 90 days)\n",
        "- **Granularity** is the greatest common divisor of the temporal extents \n",
        "(and possible gaps) of all maps in the space-time cube\n",
        "\n",
        "![](https://grass.osgeo.org/grass-stable/manuals/timeline_2D.jpg){width=\"50%\" fig-align=\"center\"}\n",
        "\n",
        "- **Topology** refers to temporal relations between time intervals in a STDS.\n",
        "\n",
        "![](assets/img/studio/temp_relation.png){width=\"35%\" fig-align=\"center\"}\n",
        "\n",
        "### TGRASS framework and workflow\n",
        "\n",
        "![](assets/img/studio/tgrass_flowchart.png){width=\"70%\" fig-align=\"center\"}\n",
        "\n",
        "## GRASS + {{< fa brands python >}}\n",
        "\n",
        "In this part of the studio we'll work with GRASS and Python, so let's first \n",
        "see/recall the very basics.\n",
        "\n",
        "### Python package `grass.script`\n",
        "\n",
        "The **grass.script** or GRASS GIS Python Scripting Library provides functions\n",
        "for calling GRASS tools within Python scripts. The most commonly used \n",
        "functions include:\n",
        "\n",
        "- `run_command`: used when the output of the tools is a raster or vector, no text type output is expected\n",
        "- `read_command`: used when the output of the tools is of text type\n",
        "- `parse_command`: used with tools whose output can be converted to `key=value` pairs\n",
        "- `write_command`: used with tools that expect text input, either in the form of a file or from standard input\n",
        "\n",
        "It also provides several wrapper functions for frequently used tools, \n",
        "for example:\n",
        "\n",
        "- To get info from a raster, script.raster.raster_info() is used: `gs.raster_info('dsm')`\n",
        "- To get info of a vector, script.vector.vector_info() is used: `gs.vector_info('roads')`\n",
        "- To list the raster in a project, script.core.list_grouped() is used: `gs.list_grouped(type=['raster'])`\n",
        "- To obtain the computational region, script.core.region() is used: `gs.region()`\n",
        "\n",
        ":::{.callout-note}\n",
        "More info: <https://grass.osgeo.org/grass-stable/manuals/libpython/script_intro.html>\n",
        ":::\n",
        "\n",
        "### Python package `grass.jupyter`\n",
        "\n",
        "The **grass.jupyter** library improves the integration of GRASS and Jupyter, \n",
        "and provides different classes to facilitate GRASS maps visualization:\n",
        "\n",
        "- `init`: starts a GRASS session and sets up all necessary environment variables\n",
        "- `Map`: 2D rendering\n",
        "- `Map3D`: 3D rendering\n",
        "- `InteractiveMap`: interactive visualization with folium\n",
        "- `SeriesMap`: visualizations for a series of raster or vector maps\n",
        "- `TimeSeriesMap`: visualization for spatio-temporal data\n",
        "\n",
        ":::{.callout-note}\n",
        "More info: <https://grass.osgeo.org/grass-stable/manuals/libpython/grass.jupyter.html>\n",
        ":::\n",
        "\n",
        "\n",
        "## Hands-on\n",
        "\n",
        "So let's start... We begin by setting variables, checking GRASS installation and\n",
        "initializing GRASS GIS"
      ]
    },
    {
      "cell_type": "code",
      "metadata": {},
      "source": [
        "import os\n",
        "\n",
        "# Data directory\n",
        "homedir = os.path.join(os.path.expanduser('~'), \"grass_ncsu_2023\")\n",
        "\n",
        "# GRASS GIS database variables\n",
        "#grassbin = \"grass-dev\"\n",
        "grassbin = \"grass\"\n",
        "grassdata = os.path.join(homedir, \"grassdata\")\n",
        "project = \"eu_laea\"\n",
        "mapset = \"italy_LST_daily\""
      ],
      "execution_count": null,
      "outputs": []
    },
    {
      "cell_type": "code",
      "metadata": {},
      "source": [
        "# Check the GRASS GIS installation\n",
        "import subprocess\n",
        "print(subprocess.check_output([grassbin, \"--config\", \"version\"], text=True))"
      ],
      "execution_count": null,
      "outputs": []
    },
    {
      "cell_type": "code",
      "metadata": {},
      "source": [
        "# Ask GRASS GIS where its Python packages are \n",
        "import sys\n",
        "sys.path.append(\n",
        "    subprocess.check_output([grassbin, \"--config\", \"python_path\"], text=True).strip()\n",
        ")"
      ],
      "execution_count": null,
      "outputs": []
    },
    {
      "cell_type": "markdown",
      "metadata": {},
      "source": [
        "Now we are ready to start a GRASS GIS session"
      ]
    },
    {
      "cell_type": "code",
      "metadata": {},
      "source": [
        "# Import the GRASS GIS packages we need\n",
        "import grass.script as gs\n",
        "import grass.jupyter as gj\n",
        "\n",
        "# Start the GRASS GIS Session\n",
        "session = gj.init(grassdata, project, mapset)"
      ],
      "execution_count": null,
      "outputs": []
    },
    {
      "cell_type": "markdown",
      "metadata": {},
      "source": [
        "### Explore data in the mapset\n",
        "\n",
        "Let's first explore what we have within the `italy_LST_daily` mapset and display\n",
        "vector and raster maps using different classes from `grass.jupyter` library."
      ]
    },
    {
      "cell_type": "code",
      "metadata": {},
      "source": [
        "# List vector elements\n",
        "gs.list_grouped(type=\"vector\")['italy_LST_daily']"
      ],
      "execution_count": null,
      "outputs": []
    },
    {
      "cell_type": "code",
      "metadata": {},
      "source": [
        "# Display vector map\n",
        "it_map = gj.Map(width=500, use_region=True)\n",
        "it_map.d_vect(map=\"italy_borders_0\")\n",
        "it_map.show()"
      ],
      "execution_count": null,
      "outputs": []
    },
    {
      "cell_type": "code",
      "metadata": {},
      "source": [
        "# List raster elements\n",
        "rast = gs.list_grouped(type=\"raster\", pattern=\"lst*\")['italy_LST_daily']\n",
        "rast[0:10]"
      ],
      "execution_count": null,
      "outputs": []
    },
    {
      "cell_type": "code",
      "metadata": {},
      "source": [
        "# Display raster map with interactive class\n",
        "lst_map = gj.InteractiveMap(width = 500, use_region=True, tiles=\"OpenStreetMap\")\n",
        "lst_map.add_raster(\"lst_2014.005_avg\")\n",
        "lst_map.add_layer_control(position = \"bottomright\")\n",
        "lst_map.show()"
      ],
      "execution_count": null,
      "outputs": []
    },
    {
      "cell_type": "markdown",
      "metadata": {},
      "source": [
        "## SDM workflow\n",
        "\n",
        "In this part of the Studio we'll be addressing the left part of the SDM workflow, occurrence and background data and predictors:\n",
        "\n",
        "![](assets/img/workflow_sdm_other.png)\n",
        "\n",
        "### Importing species records\n",
        "\n",
        "We will use occurrence data already downloaded and cleaned. We need to import it\n",
        "into GRASS GIS first."
      ]
    },
    {
      "cell_type": "code",
      "metadata": {},
      "source": [
        "# Import mosquito records\n",
        "gs.run_command(\"v.import\",\n",
        "               input=os.path.join(homedir,\"aedes_albopictus.gpkg\"),\n",
        "               output=\"aedes_albopictus\")"
      ],
      "execution_count": null,
      "outputs": []
    },
    {
      "cell_type": "markdown",
      "metadata": {},
      "source": [
        "Let's add the occurrence points over the previous interactive map"
      ]
    },
    {
      "cell_type": "code",
      "metadata": {},
      "source": [
        "# Display raster map with interactive class\n",
        "lst_map = gj.InteractiveMap(width = 500, use_region=True, tiles=\"OpenStreetMap\")\n",
        "lst_map.add_raster(\"lst_2014.005_avg\")\n",
        "lst_map.add_vector(\"aedes_albopictus\")\n",
        "lst_map.add_layer_control(position = \"bottomright\")\n",
        "lst_map.show()"
      ],
      "execution_count": null,
      "outputs": []
    },
    {
      "cell_type": "markdown",
      "metadata": {},
      "source": [
        "You can also get the mosquito occurrences (or any other species or taxa) directly from [GBIF](https://www.gbif.org/) into GRASS\n",
        "by means of [v.in.pygbif](https://grass.osgeo.org/grass-stable/manuals/addons/v.in.pygbif.html) as follows: "
      ]
    },
    {
      "cell_type": "code",
      "metadata": {},
      "source": [
        "# Set computational region\n",
        "# region = gs.parse_command(\"g.region\", raster=\"lst_2014.001_avg\", flags=\"g\")\n",
        "# region"
      ],
      "execution_count": null,
      "outputs": []
    },
    {
      "cell_type": "code",
      "metadata": {},
      "source": [
        "# Install extension (requires pygbif: pip install pygbif)\n",
        "# gs.run_command(\"g.extension\",\n",
        "#                extension=\"v.in.pygbif\")"
      ],
      "execution_count": null,
      "outputs": []
    },
    {
      "cell_type": "code",
      "metadata": {},
      "source": [
        "# Import data from GBIF\n",
        "# gs.run_command(\"v.in.pygbif\", \n",
        "#                output=\"aedes_albopictus\",\n",
        "#                taxa=\"Aedes albopictus\",\n",
        "#                date_from=\"2014-01-01\",\n",
        "#                date_to=\"2018-12-31\")"
      ],
      "execution_count": null,
      "outputs": []
    },
    {
      "cell_type": "markdown",
      "metadata": {},
      "source": [
        "### Creating random background points\n",
        "\n",
        "The algorithm MaxEnt that we will use in the next part of this session requires not only the projects of known occurrences, but also information on the rest of the environment available. These are not absences but background data, we actually do not know if the species is there or not, but we need it to compare with the features of the places where the species does occur. \n",
        "\n",
        "To avoid getting background points exactly where occurrences are, we'll create buffers around them. Then, we need to ensure that background points are only over land within our computational region. In order to do that, we'll create a mask over land and we'll overlay the buffers with the mask. Can you guess what the output will be?"
      ]
    },
    {
      "cell_type": "code",
      "metadata": {},
      "source": [
        "# Create buffer around Aedes albopictus records\n",
        "gs.run_command(\"v.buffer\",\n",
        "               input=\"aedes_albopictus\",\n",
        "               output=\"aedes_buffer\",\n",
        "               distance=2000)"
      ],
      "execution_count": null,
      "outputs": []
    },
    {
      "cell_type": "code",
      "metadata": {},
      "source": [
        "# Set computational region\n",
        "region = gs.parse_command(\"g.region\", raster=\"lst_2014.001_avg\", flags=\"g\")\n",
        "region"
      ],
      "execution_count": null,
      "outputs": []
    },
    {
      "cell_type": "code",
      "metadata": {},
      "source": [
        "# Create a vector mask to limit background points\n",
        "expression=\"MASK = if(lst_2014.001_avg, 1, null())\"\n",
        "gs.raster.mapcalc(exp=expression)\n",
        "\n",
        "gs.run_command(\"r.to.vect\", \n",
        "               input=\"MASK\",\n",
        "               output=\"vect_mask\",\n",
        "               type=\"area\")"
      ],
      "execution_count": null,
      "outputs": []
    },
    {
      "cell_type": "code",
      "metadata": {},
      "source": [
        "# Subtract buffers from vector mask\n",
        "gs.run_command(\"v.overlay\",\n",
        "               ainput=\"vect_mask\",\n",
        "               binput=\"aedes_buffer\",\n",
        "               operator=\"xor\",\n",
        "               output=\"mask_bg\")"
      ],
      "execution_count": null,
      "outputs": []
    },
    {
      "cell_type": "markdown",
      "metadata": {},
      "source": [
        "Let's display the result"
      ]
    },
    {
      "cell_type": "code",
      "metadata": {},
      "source": [
        "# Display raster map with interactive class\n",
        "mask_map = gj.InteractiveMap(width = 500, use_region=True, tiles=\"OpenStreetMap\")\n",
        "mask_map.add_vector(\"mask_bg\")\n",
        "mask_map.add_layer_control(position = \"bottomright\")\n",
        "mask_map.show()"
      ],
      "execution_count": null,
      "outputs": []
    },
    {
      "cell_type": "markdown",
      "metadata": {},
      "source": [
        "Finally, let's create the random background points..."
      ]
    },
    {
      "cell_type": "code",
      "metadata": {},
      "source": [
        "# Generate random background points\n",
        "gs.run_command(\"v.random\",\n",
        "               output=\"background_points\",\n",
        "               npoints=1000,\n",
        "               restrict=\"mask_bg\",\n",
        "               seed=3749)"
      ],
      "execution_count": null,
      "outputs": []
    },
    {
      "cell_type": "markdown",
      "metadata": {},
      "source": [
        "and display occurrence and background points together over an LST map."
      ]
    },
    {
      "cell_type": "code",
      "metadata": {},
      "source": [
        "# Display vector map\n",
        "pb_map = gj.Map(width=500, use_region=True)\n",
        "pb_map.d_rast(map=\"lst_2014.005_avg\")\n",
        "pb_map.d_vect(map=\"italy_borders_0\", type=\"boundary\")\n",
        "pb_map.d_vect(map=\"background_points\")\n",
        "pb_map.d_vect(map=\"aedes_albopictus\", icon=\"basic/diamond\", fill_color=\"red\", size=8)\n",
        "pb_map.show()"
      ],
      "execution_count": null,
      "outputs": []
    },
    {
      "cell_type": "markdown",
      "metadata": {},
      "source": [
        "### Create daily LST time series\n",
        "\n",
        "Now we'll start processing the raster data to derive potentially relevant predictors to include in the model. Our data consists of a time series of daily LST averages. We'll use the GRASS temporal framework. The first step is to create the time series object and register maps in it. See [t.create](https://grass.osgeo.org/grass-stable/manuals/t.create.html) and [t.register](https://grass.osgeo.org/grass-stable/manuals/t.register.html) for further details."
      ]
    },
    {
      "cell_type": "code",
      "metadata": {},
      "source": [
        "# Create time series \n",
        "gs.run_command(\"t.create\",\n",
        "               type=\"strds\",\n",
        "               temporaltype=\"absolute\",\n",
        "               output=\"lst_daily\",\n",
        "               title=\"Average Daily LST\",\n",
        "               description=\"Average daily LST in degree C - 2014-2018\")"
      ],
      "execution_count": null,
      "outputs": []
    },
    {
      "cell_type": "code",
      "metadata": {},
      "source": [
        "# Check it is created\n",
        "gs.run_command(\"t.list\",\n",
        "              type=\"strds\")"
      ],
      "execution_count": null,
      "outputs": []
    },
    {
      "cell_type": "code",
      "metadata": {},
      "source": [
        "# Get list of maps \n",
        "map_list = gs.list_grouped(type=\"raster\", pattern=\"lst_201*\")['italy_LST_daily']\n",
        "map_list[0:10]"
      ],
      "execution_count": null,
      "outputs": []
    },
    {
      "cell_type": "code",
      "metadata": {},
      "source": [
        "# Register maps in strds  \n",
        "gs.run_command(\"t.register\", \n",
        "               input=\"lst_daily\",\n",
        "               maps=map_list,\n",
        "               increment=\"1 days\",\n",
        "               start=\"2014-01-01\", \n",
        "               flags=\"i\")"
      ],
      "execution_count": null,
      "outputs": []
    },
    {
      "cell_type": "code",
      "metadata": {},
      "source": [
        "# Get info about the strds\n",
        "gs.run_command(\"t.info\",\n",
        "               input=\"lst_daily\")"
      ],
      "execution_count": null,
      "outputs": []
    },
    {
      "cell_type": "markdown",
      "metadata": {},
      "source": [
        "### Generate environmental variables from LST STRDS\n",
        "\n",
        "Now that we created the time series or **STRDS**, let's start estimating relevant \n",
        "variables. We start by calculating long term aggregations, also called \n",
        "*climatologies*.\n",
        "\n",
        "#### Long term monthly avg, min and max LST\n",
        "\n",
        "Let's see an example first; we'll estimate the average of all maps which start date\n",
        "is within January."
      ]
    },
    {
      "cell_type": "code",
      "metadata": {},
      "source": [
        "# January average LST\n",
        "gs.run_command(\"t.rast.series\",\n",
        "               input=\"lst_daily\",\n",
        "               method=\"average\",\n",
        "               where=\"strftime('%m', start_time)='01'\",\n",
        "               output=\"lst_average_jan\")"
      ],
      "execution_count": null,
      "outputs": []
    },
    {
      "cell_type": "code",
      "metadata": {},
      "source": [
        "# Get map info and check values\n",
        "gs.raster_info(\"lst_average_jan\")['min'], gs.raster_info(\"lst_average_jan\")['max']"
      ],
      "execution_count": null,
      "outputs": []
    },
    {
      "cell_type": "markdown",
      "metadata": {},
      "source": [
        "If we want to estimate climatologies for all months, let's try first to get the list of maps that will be the input for [t.rast.series](https://grass.osgeo.org/grass-stable/manuals/t.rast.series.html), for that we'll test the condition in [t.rast.list](https://grass.osgeo.org/grass-stable/manuals/t.rast.list.html) first."
      ]
    },
    {
      "cell_type": "code",
      "metadata": {
        "message": false,
        "results": "hide"
      },
      "source": [
        "#| warning: false\n",
        "\n",
        "# Define list of months as required\n",
        "months=['{0:02d}'.format(m) for m in range(1,13)]\n",
        "\n",
        "for m in months:\n",
        "    gs.run_command(\"t.rast.list\",\n",
        "                   input=\"lst_daily\",\n",
        "                   where=f\"strftime('%m', start_time)='{m}'\")"
      ],
      "execution_count": null,
      "outputs": []
    },
    {
      "cell_type": "markdown",
      "metadata": {},
      "source": [
        "Now we add the `methods` and we are ready to estimate climatologies for all months\n",
        "with three different methods."
      ]
    },
    {
      "cell_type": "code",
      "metadata": {},
      "source": [
        "# Now we estimate the climatologies for all months and methods\n",
        "months=['{0:02d}'.format(m) for m in range(1,13)]\n",
        "methods=[\"average\",\"minimum\",\"maximum\"]\n",
        "\n",
        "for m in months:\n",
        "    for me in methods:\n",
        "        gs.run_command(\"t.rast.series\", \n",
        "                       input=\"lst_daily\",\n",
        "                       method=me,\n",
        "                       where=f\"strftime('%m', start_time)='{m}'\",\n",
        "                       output=\"lst_{}_{}\".format(me,m))"
      ],
      "execution_count": null,
      "outputs": []
    },
    {
      "cell_type": "code",
      "metadata": {},
      "source": [
        "# List newly created maps\n",
        "map_list = gs.list_grouped(type=\"raster\", pattern=\"*{average,minimum,maximum}*\")['italy_LST_daily']\n",
        "print(map_list)"
      ],
      "execution_count": null,
      "outputs": []
    },
    {
      "cell_type": "code",
      "metadata": {},
      "source": [
        "# Remove lst_average_jan\n",
        "gs.run_command(\"g.remove\", type=\"raster\", name=\"lst_average_jan\", flags=\"f\")"
      ],
      "execution_count": null,
      "outputs": []
    },
    {
      "cell_type": "markdown",
      "metadata": {},
      "source": [
        "#### Bioclimatic variables\n",
        "\n",
        "Perhaps you have heard of [Worldclim](https://www.worldclim.org/) or [CHELSA](https://chelsa-climate.org/) bioclimatic variables? Well, this are 19 variables that represent potentially limiting conditions for species. They derive from the combination of temperature and precipitation long term averages. As we do not have precipitation data in this exercise, we'll only estimate the bioclimatic variables that include temperature. See [r.bioclim](https://grass.osgeo.org/grass-stable/manuals/addons/r.bioclim.html) manual for further details. Note that we'll use the climatologies estimated in the previous step."
      ]
    },
    {
      "cell_type": "code",
      "metadata": {},
      "source": [
        "# Install extension\n",
        "gs.run_command(\"g.extension\",\n",
        "               extension=\"r.bioclim\")"
      ],
      "execution_count": null,
      "outputs": []
    },
    {
      "cell_type": "code",
      "metadata": {},
      "source": [
        "# Get lists of maps needed\n",
        "tmin=gs.list_grouped(type=\"raster\", pattern=\"lst_minimum_??\")['italy_LST_daily']\n",
        "tmax=gs.list_grouped(type=\"raster\", pattern=\"lst_maximum_??\")['italy_LST_daily']\n",
        "tavg=gs.list_grouped(type=\"raster\", pattern=\"lst_average_??\")['italy_LST_daily']\n",
        "\n",
        "print(tmin,tmax,tavg)"
      ],
      "execution_count": null,
      "outputs": []
    },
    {
      "cell_type": "code",
      "metadata": {},
      "source": [
        "# Estimate temperature related bioclimatic variables\n",
        "gs.run_command(\"r.bioclim\", \n",
        "               tmin=tmin, \n",
        "               tmax=tmax,\n",
        "               tavg=tavg, \n",
        "               output=\"worldclim_\") "
      ],
      "execution_count": null,
      "outputs": []
    },
    {
      "cell_type": "code",
      "metadata": {},
      "source": [
        "# List output maps\n",
        "gs.list_grouped(type=\"raster\", pattern=\"worldclim*\")['italy_LST_daily']"
      ],
      "execution_count": null,
      "outputs": []
    },
    {
      "cell_type": "markdown",
      "metadata": {},
      "source": [
        "Let's have a look at some of the maps we just created"
      ]
    },
    {
      "cell_type": "code",
      "metadata": {},
      "source": [
        "# Display raster map with interactive class\n",
        "bio_map = gj.InteractiveMap(width = 500, use_region=True, tiles=\"OpenStreetMap\")\n",
        "bio_map.add_raster(\"worldclim_bio01\")\n",
        "bio_map.add_raster(\"worldclim_bio02\")\n",
        "bio_map.add_layer_control(position = \"bottomright\")\n",
        "bio_map.show()"
      ],
      "execution_count": null,
      "outputs": []
    },
    {
      "cell_type": "markdown",
      "metadata": {},
      "source": [
        "#### Spring warming\n",
        "\n",
        "We define spring warming as the velocity with which temperature increases from winter into spring and we calculate it as `slope(daily Tmean February-March-April)`. We will use [t.rast.aggregate](https://grass.osgeo.org/grass-stable/manuals/t.rast.aggregate.html)."
      ]
    },
    {
      "cell_type": "code",
      "metadata": {},
      "source": [
        "# Define list of months\n",
        "months=['{0:02d}'.format(m) for m in range(2,5)]"
      ],
      "execution_count": null,
      "outputs": []
    },
    {
      "cell_type": "code",
      "metadata": {},
      "source": [
        "# Annual spring warming\n",
        "gs.run_command(\"t.rast.aggregate\",\n",
        "               input=\"lst_daily\",\n",
        "               output=\"annual_spring_warming\",\n",
        "               basename=\"spring_warming\",\n",
        "               suffix=\"gran\",\n",
        "               method=\"slope\",\n",
        "               granularity=\"1 years\",\n",
        "               where=f\"strftime('%m',start_time)='{months[0]}' or strftime('%m',start_time)='{months[1]}' or strftime('%m', start_time)='{months[2]}'\")"
      ],
      "execution_count": null,
      "outputs": []
    },
    {
      "cell_type": "code",
      "metadata": {},
      "source": [
        "# Check raster maps in the STRDS\n",
        "gs.run_command(\"t.rast.list\", input=\"annual_spring_warming\")"
      ],
      "execution_count": null,
      "outputs": []
    },
    {
      "cell_type": "code",
      "metadata": {},
      "source": [
        "# Average spring warming\n",
        "gs.run_command(\"t.rast.series\",\n",
        "               input=\"annual_spring_warming\",\n",
        "               output=\"avg_spring_warming\",\n",
        "               method=\"average\")"
      ],
      "execution_count": null,
      "outputs": []
    },
    {
      "cell_type": "code",
      "metadata": {},
      "source": [
        "# Display raster map with interactive class\n",
        "auc_map = gj.InteractiveMap(width = 500, use_region=True, tiles=\"OpenStreetMap\")\n",
        "auc_map.add_raster(\"avg_spring_warming\")\n",
        "auc_map.add_layer_control(position = \"bottomright\")\n",
        "auc_map.show()"
      ],
      "execution_count": null,
      "outputs": []
    },
    {
      "cell_type": "markdown",
      "metadata": {},
      "source": [
        "#### Autumnal cooling\n",
        "\n",
        "We define autumnal cooling as the velocity with which temperature decreases from summer into fall and we calculate it as `slope(daily Tmean August-September-October)`."
      ]
    },
    {
      "cell_type": "code",
      "metadata": {},
      "source": [
        "# Define list of months\n",
        "months=['{0:02d}'.format(m) for m in range(8,11)]"
      ],
      "execution_count": null,
      "outputs": []
    },
    {
      "cell_type": "code",
      "metadata": {},
      "source": [
        "# Annual autumnal cooling\n",
        "gs.run_command(\"t.rast.aggregate\",\n",
        "               input=\"lst_daily\",\n",
        "               output=\"annual_autumnal_cooling\",\n",
        "               basename=\"autumnal_cooling\",\n",
        "               suffix=\"gran\",\n",
        "               method=\"slope\",\n",
        "               granularity=\"1 years\",\n",
        "               where=f\"strftime('%m',start_time)='{months[0]}' or strftime('%m',start_time)='{months[1]}' or strftime('%m', start_time)='{months[2]}'\")"
      ],
      "execution_count": null,
      "outputs": []
    },
    {
      "cell_type": "code",
      "metadata": {},
      "source": [
        "# Check raster maps in the STRDS\n",
        "gs.run_command(\"t.rast.list\", input=\"annual_autumnal_cooling\")"
      ],
      "execution_count": null,
      "outputs": []
    },
    {
      "cell_type": "code",
      "metadata": {},
      "source": [
        "# Average autumnal cooling\n",
        "gs.run_command(\"t.rast.series\",\n",
        "               input=\"annual_autumnal_cooling\",\n",
        "               output=\"avg_autumnal_cooling\",\n",
        "               method=\"average\")"
      ],
      "execution_count": null,
      "outputs": []
    },
    {
      "cell_type": "code",
      "metadata": {},
      "source": [
        "# Display raster map with interactive class\n",
        "spw_map = gj.InteractiveMap(width = 500, use_region=True, tiles=\"OpenStreetMap\")\n",
        "spw_map.add_raster(\"avg_autumnal_cooling\")\n",
        "spw_map.add_layer_control(position = \"bottomright\")\n",
        "spw_map.show()"
      ],
      "execution_count": null,
      "outputs": []
    },
    {
      "cell_type": "markdown",
      "metadata": {},
      "source": [
        "#### Number of days with LSTmean >= 20 and <= 30\n",
        "\n",
        "Mosquitoes (and virus they might carry) tend to thrive in a certain range of \n",
        "temperatures. Let's assume this range is from 20 to 30 °C. Here, we'll estimate\n",
        "the number of days within this range per year, and then, we'll estimate the\n",
        "average along years. See [t.rast.algebra](https://grass.osgeo.org/grass-stable/manuals/t.rast.algebra.html) manual for further details."
      ]
    },
    {
      "cell_type": "code",
      "metadata": {
        "message": false,
        "results": "hide"
      },
      "source": [
        "#| warning: false\n",
        "\n",
        "# Keep only pixels meeting the condition\n",
        "expression=\"tmean_higher20_lower30 = if(lst_daily >= 20.0 && lst_daily <= 30.0, 1, null())\"\n",
        "\n",
        "gs.run_command(\"t.rast.algebra\",\n",
        "               expression=expression, \n",
        "               basename=\"tmean_higher20_lower30\",\n",
        "               suffix=\"gran\",\n",
        "               nproc=7, \n",
        "               flags=\"n\")"
      ],
      "execution_count": null,
      "outputs": []
    },
    {
      "cell_type": "code",
      "metadata": {},
      "source": [
        "# Count how many times per year the condition is met\n",
        "gs.run_command(\"t.rast.aggregate\",\n",
        "               input=\"tmean_higher20_lower30\", \n",
        "               output=\"count_tmean_higher20_lower30\",\n",
        "               basename=\"tmean_higher20_lower30\",\n",
        "               suffix=\"gran\",\n",
        "               method=\"count\",\n",
        "               granularity=\"1 years\")"
      ],
      "execution_count": null,
      "outputs": []
    },
    {
      "cell_type": "code",
      "metadata": {},
      "source": [
        "# Check raster maps in the STRDS\n",
        "gs.run_command(\"t.rast.list\", \n",
        "               input=\"count_tmean_higher20_lower30\", \n",
        "               columns=\"name,start_time,min,max\")"
      ],
      "execution_count": null,
      "outputs": []
    },
    {
      "cell_type": "code",
      "metadata": {},
      "source": [
        "# Average number of days with LSTmean >= 20 and <= 30\n",
        "gs.run_command(\"t.rast.series\",\n",
        "               input=\"count_tmean_higher20_lower30\",\n",
        "               output=\"avg_count_tmean_higher20_lower30\",\n",
        "               method=\"average\")"
      ],
      "execution_count": null,
      "outputs": []
    },
    {
      "cell_type": "code",
      "metadata": {},
      "source": [
        "# Display raster map with interactive class\n",
        "h20_map = gj.InteractiveMap(width = 500, use_region=True, tiles=\"OpenStreetMap\")\n",
        "h20_map.add_raster(\"avg_count_tmean_higher20_lower30\")\n",
        "h20_map.add_layer_control(position = \"bottomright\")\n",
        "h20_map.show()"
      ],
      "execution_count": null,
      "outputs": []
    },
    {
      "cell_type": "markdown",
      "metadata": {},
      "source": [
        "#### Number of consecutive days with LSTmean <= -10.0\n",
        "\n",
        "Likewise, there are temperature thresholds that mark a limit to mosquito survival.\n",
        "Here, we'll use the temperature lower limit to survival. Most importantly, we we'll\n",
        "count the number of consecutive days with temperatures below this threshold.\n",
        "\n",
        "Here, we'll use again the temporal algebra and we'll recall the concept of \n",
        "topology that we defined at the beginning of the notebook. First, we need to create\n",
        "a STRDS of annual granularity that will contain only zeroes. This annual STRDS, that\n",
        "we call `annual mask`, will be the base to add 1 each time the condition of less \n",
        "than -10 °C in consecutive days is met. Finally, we estimate the median number\n",
        "of days with LST lower than -10 °C over the 5 years."
      ]
    },
    {
      "cell_type": "code",
      "metadata": {},
      "source": [
        "# Create annual mask\n",
        "gs.run_command(\"t.rast.aggregate\",\n",
        "               input=\"lst_daily\",\n",
        "               output=\"annual_mask\",\n",
        "               basename=\"annual_mask\",\n",
        "               suffix=\"gran\",\n",
        "               granularity=\"1 year\",\n",
        "               method=\"count\")"
      ],
      "execution_count": null,
      "outputs": []
    },
    {
      "cell_type": "code",
      "metadata": {},
      "source": [
        "# Replace values by zero\n",
        "expression=\"if(annual_mask, 0)\"\n",
        "\n",
        "gs.run_command(\"t.rast.mapcalc\",\n",
        "               input=\"annual_mask\",\n",
        "               output=\"annual_mask_0\",\n",
        "               expression=expression,\n",
        "               basename=\"annual_mask_0\")"
      ],
      "execution_count": null,
      "outputs": []
    },
    {
      "cell_type": "code",
      "metadata": {
        "message": false,
        "results": "hide"
      },
      "source": [
        "#| warning: false\n",
        "\n",
        "# Calculate consecutive days with LST <= -10.0\n",
        "expression=\"lower_m10_consec_days = annual_mask_0 {+,contains,l} if(lst_daily <= -10.0 && lst_daily[-1] <= -10.0 || lst_daily[1] <= -10.0 && lst_daily <= -10.0, 1, 0)\"\n",
        "\n",
        "gs.run_command(\"t.rast.algebra\",\n",
        "               expression=expression,\n",
        "               basename=\"lower_m10\",\n",
        "               suffix=\"gran\",\n",
        "               nproc=7)"
      ],
      "execution_count": null,
      "outputs": []
    },
    {
      "cell_type": "code",
      "metadata": {},
      "source": [
        "# Inspect values\n",
        "gs.run_command(\"t.rast.list\",\n",
        "               input=\"lower_m10_consec_days\",\n",
        "               columns=\"name,start_time,min,max\")"
      ],
      "execution_count": null,
      "outputs": []
    },
    {
      "cell_type": "code",
      "metadata": {},
      "source": [
        "# Median number of consecutive days with LST <= -10\n",
        "gs.run_command(\"t.rast.series\",\n",
        "               input=\"lower_m10_consec_days\",\n",
        "               output=\"median_lower_m10_consec_days\",\n",
        "               method=\"median\")"
      ],
      "execution_count": null,
      "outputs": []
    },
    {
      "cell_type": "code",
      "metadata": {},
      "source": [
        "# Display raster map with interactive class\n",
        "lt10_map = gj.InteractiveMap(width = 500, use_region=True, tiles=\"OpenStreetMap\")\n",
        "lt10_map.add_raster(\"median_lower_m10_consec_days\")\n",
        "lt10_map.add_layer_control(position = \"bottomright\")\n",
        "lt10_map.show()"
      ],
      "execution_count": null,
      "outputs": []
    },
    {
      "cell_type": "markdown",
      "metadata": {},
      "source": [
        "We have now derived many potentially relevant predictors for the mosquito habitat suitability and we could still derive some more, for example, the number of mosquito or virus cycles per year based on development temperature thresholds and growing degree days (GDD). This could be achieved with [t.rast.accumulate](https://grass.osgeo.org/grass-stable/manuals/t.rast.accumulate.html) and [t.rast.accdetect](https://grass.osgeo.org/grass-stable/manuals/t.rast.accdetect.html). \n",
        "\n",
        "We will now open a GRASS session from R and perform SDM there.\n"
      ]
    }
  ],
  "metadata": {
    "kernelspec": {
      "name": "python3",
      "language": "python",
      "display_name": "Python 3 (ipykernel)"
    }
  },
  "nbformat": 4,
  "nbformat_minor": 4
}